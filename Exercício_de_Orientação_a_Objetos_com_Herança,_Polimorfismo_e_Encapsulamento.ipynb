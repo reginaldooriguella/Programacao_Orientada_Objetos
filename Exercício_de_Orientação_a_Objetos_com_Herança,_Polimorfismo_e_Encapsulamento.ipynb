{
  "nbformat": 4,
  "nbformat_minor": 0,
  "metadata": {
    "colab": {
      "provenance": []
    },
    "kernelspec": {
      "name": "python3",
      "display_name": "Python 3"
    },
    "language_info": {
      "name": "python"
    }
  },
  "cells": [
    {
      "cell_type": "markdown",
      "source": [
        "Exercício de Orientação a Objetos com Herança, Polimorfismo e Encapsulamento\n",
        "Neste exercício, você irá criar um sistema simples de gerenciamento de veículos, utilizando os conceitos de orientação a objetos, herança, polimorfismo e encapsulamento em Python. O sistema irá lidar com dois tipos de veículos: carros e motos.\n",
        "\n",
        "Classe Base: Veiculo\n",
        "Crie uma classe chamada Veiculo, que terá os seguintes atributos privados:\n",
        "\n",
        "__marca: uma string que representa a marca do veículo.\n",
        "__modelo: uma string que representa o modelo do veículo.\n",
        "A classe Veiculo deve possuir os seguintes métodos:\n",
        "\n",
        "Um método construtor __init__() que recebe como parâmetros a marca e o modelo do veículo, e inicializa os atributos correspondentes.\n",
        "Métodos getters para acessar os valores dos atributos privados.\n",
        "Um método que retorna uma string descrevendo o veículo no formato \"Marca: <marca>, Modelo: <modelo>\".\n",
        "Classe Filha: Carro\n",
        "Crie uma classe chamada Carro, que herda da classe Veiculo. A classe Carro deve possuir os seguintes atributos privados adicionais:\n",
        "\n",
        "__portas: um inteiro que representa o número de portas do carro.\n",
        "A classe Carro deve sobrescrever o método que descreve a classe para incluir também o número de portas do carro.\n",
        "\n",
        "Classe Filha: Moto\n",
        "Crie uma classe chamada Moto, que herda da classe Veiculo. A classe Moto deve possuir os seguintes atributos privados adicionais:\n",
        "\n",
        "__cilindradas: um inteiro que representa as cilindradas da moto.\n",
        "A classe Moto deve sobrescrever o método que descreve a classe para incluir também as cilindradas da moto.\n",
        "\n",
        "Implementação e Teste\n",
        "No programa principal (main), crie pelo menos um objeto de cada classe (um carro e uma moto) com informações relevantes. Em seguida, armazene esses objetos em uma lista e, utilizando um loop, exiba a descrição de cada veículo na lista.\n",
        "\n",
        "Nota: Lembre-se de respeitar os princípios de encapsulamento ao acessar os atributos privados das classes usando os métodos getters.\n",
        "\n",
        "Exemplo de Saída Esperada:\n",
        "\n",
        "yaml\n",
        "Copy code\n",
        "Carro - Marca: Toyota, Modelo: Corolla, Portas: 4\n",
        "Moto - Marca: Honda, Modelo: CBR500R, Cilindradas: 500"
      ],
      "metadata": {
        "id": "xcKlBD2W0WQ7"
      }
    },
    {
      "cell_type": "code",
      "execution_count": 1,
      "metadata": {
        "colab": {
          "base_uri": "https://localhost:8080/"
        },
        "id": "eARzBe0JyEeb",
        "outputId": "3f65d0a6-bc5e-45e0-c05a-471c0baf8c5c"
      },
      "outputs": [
        {
          "output_type": "stream",
          "name": "stdout",
          "text": [
            "Carro - Marca: Toyota, Modelo: Corolla, Portas: 4\n",
            "Moto - Marca: Honda, Modelo: CBR500R, Cilindradas: 500\n"
          ]
        }
      ],
      "source": [
        "# Classe Base: Veiculo\n",
        "class Veiculo:\n",
        "    def __init__(self, marca, modelo):\n",
        "        self.__marca = marca\n",
        "        self.__modelo = modelo\n",
        "\n",
        "    # Métodos getters\n",
        "    def get_marca(self):\n",
        "        return self.__marca\n",
        "\n",
        "    def get_modelo(self):\n",
        "        return self.__modelo\n",
        "\n",
        "    def descricao(self):\n",
        "        return f\"Marca: {self.__marca}, Modelo: {self.__modelo}\"\n",
        "\n",
        "# Classe Filha: Carro\n",
        "class Carro(Veiculo):\n",
        "    def __init__(self, marca, modelo, portas):\n",
        "        super().__init__(marca, modelo)\n",
        "        self.__portas = portas\n",
        "\n",
        "    def descricao(self):\n",
        "        return f\"Carro - {super().descricao()}, Portas: {self.__portas}\"\n",
        "\n",
        "# Classe Filha: Moto\n",
        "class Moto(Veiculo):\n",
        "    def __init__(self, marca, modelo, cilindradas):\n",
        "        super().__init__(marca, modelo)\n",
        "        self.__cilindradas = cilindradas\n",
        "\n",
        "    def descricao(self):\n",
        "        return f\"Moto - {super().descricao()}, Cilindradas: {self.__cilindradas}\"\n",
        "\n",
        "# Programa principal\n",
        "if __name__ == \"__main__\":\n",
        "    carro = Carro(\"Toyota\", \"Corolla\", 4)\n",
        "    moto = Moto(\"Honda\", \"CBR500R\", 500)\n",
        "\n",
        "    veiculos = [carro, moto]\n",
        "\n",
        "    for veiculo in veiculos:\n",
        "        print(veiculo.descricao())\n"
      ]
    },
    {
      "cell_type": "code",
      "source": [
        "Carro - Marca: Toyota, Modelo: Corolla, Portas: 4\n",
        "Moto - Marca: Honda, Modelo: CBR500R, Cilindradas: 500\n"
      ],
      "metadata": {
        "id": "C6O5ioHwyOsO"
      },
      "execution_count": null,
      "outputs": []
    }
  ]
}